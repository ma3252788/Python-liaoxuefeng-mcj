{
 "cells": [
  {
   "cell_type": "code",
   "execution_count": 30,
   "metadata": {},
   "outputs": [
    {
     "name": "stdout",
     "output_type": "stream",
     "text": [
      "数据数为： 1.0\n",
      "数据为： 90eb01020355aa3e90eb01020355aa0251ff5200000000001355aa0251ff5200000000001355aa0251ff5200000000001355aa0251ff5200000000001355\n",
      "数据的长度为 62.0 个字节\n"
     ]
    }
   ],
   "source": [
    "f = open('data.dat', \"rb\")\n",
    "\n",
    "d = f.read()\n",
    "\n",
    "print(\"数据数为：\",len(d)/62)\n",
    "\n",
    "print(\"数据为：\",d.hex())\n",
    "str=d.hex()\n",
    "sub=\"3\"\n",
    "\n",
    "#print (\"str.count(sub) : \", str.count(sub))\n",
    "print(\"数据的长度为\",len(str)/2,\"个字节\")"
   ]
  },
  {
   "cell_type": "code",
   "execution_count": 22,
   "metadata": {},
   "outputs": [
    {
     "name": "stdout",
     "output_type": "stream",
     "text": [
      "str.count('o') :  3\n",
      "str.count('run', 0, 10) :  1\n"
     ]
    }
   ],
   "source": [
    "\n",
    "str=\"www.runoob.com\"\n",
    "sub='o'\n",
    "print (\"str.count('o') : \", str.count(sub))\n",
    "\n",
    "sub='run'\n",
    "print (\"str.count('run', 0, 10) : \", str.count(sub,0,10))"
   ]
  },
  {
   "cell_type": "code",
   "execution_count": null,
   "metadata": {},
   "outputs": [],
   "source": []
  },
  {
   "cell_type": "code",
   "execution_count": null,
   "metadata": {},
   "outputs": [],
   "source": []
  },
  {
   "cell_type": "code",
   "execution_count": null,
   "metadata": {},
   "outputs": [],
   "source": []
  },
  {
   "cell_type": "code",
   "execution_count": null,
   "metadata": {},
   "outputs": [],
   "source": []
  }
 ],
 "metadata": {
  "kernelspec": {
   "display_name": "Python 3",
   "language": "python",
   "name": "python3"
  },
  "language_info": {
   "codemirror_mode": {
    "name": "ipython",
    "version": 3
   },
   "file_extension": ".py",
   "mimetype": "text/x-python",
   "name": "python",
   "nbconvert_exporter": "python",
   "pygments_lexer": "ipython3",
   "version": "3.6.5"
  }
 },
 "nbformat": 4,
 "nbformat_minor": 2
}
